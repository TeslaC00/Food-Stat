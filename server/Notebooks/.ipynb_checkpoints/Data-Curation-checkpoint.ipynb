{
 "cells": [
  {
   "cell_type": "code",
   "execution_count": 28,
   "id": "c4497c7e",
   "metadata": {},
   "outputs": [],
   "source": [
    "import os\n",
    "import json"
   ]
  },
  {
   "cell_type": "code",
   "execution_count": 29,
   "id": "94b32155",
   "metadata": {},
   "outputs": [],
   "source": [
    "path = \"ModelPaused.json\"\n",
    "json_data = []\n",
    "with open (path, 'r', encoding='utf-8') as f:\n",
    "    try:\n",
    "        data = json.load(f)\n",
    "        json_data.append(data)\n",
    "    except json.JSONDecodeError as e:\n",
    "        print(f\"Error decoding JSON in file {filename}: {e}\")"
   ]
  },
  {
   "cell_type": "code",
   "execution_count": 30,
   "id": "a593a402",
   "metadata": {
    "scrolled": false
   },
   "outputs": [
    {
     "data": {
      "text/plain": [
       "{'item_category': 'NAMKEEN',\n",
       " 'item_name': 'Salted Peanuts - Panjwani',\n",
       " 'ingredients': ['Peanuts', 'Salt', 'Vegetable Oil'],\n",
       " 'allergy_info': ['nuts', 'Peanuts'],\n",
       " 'nutrition': {'energy': '609',\n",
       "  'protein': '0',\n",
       "  'carbohydrate': '28.26',\n",
       "  'total_fat': '47.78',\n",
       "  'total_sugars': '7.26',\n",
       "  'added_sugars': 'N/A',\n",
       "  'saturated_fat': '7.86',\n",
       "  'trans_fat': 'N/A'},\n",
       " 'veg': True,\n",
       " 'image_url': ''}"
      ]
     },
     "execution_count": 30,
     "metadata": {},
     "output_type": "execute_result"
    }
   ],
   "source": [
    "json_data[0][0]"
   ]
  },
  {
   "cell_type": "code",
   "execution_count": 31,
   "id": "bfb86b29",
   "metadata": {},
   "outputs": [],
   "source": [
    "counter = {}\n",
    "\n",
    "for record in json_data[0]:\n",
    "    if record['item_category'] in counter:\n",
    "        counter[record['item_category']] += 1\n",
    "    else:\n",
    "        counter[record['item_category']] = 1"
   ]
  },
  {
   "cell_type": "code",
   "execution_count": 32,
   "id": "0b9b3635",
   "metadata": {
    "scrolled": false
   },
   "outputs": [
    {
     "data": {
      "text/plain": [
       "{'NAMKEEN': 47,\n",
       " 'BREAKFAST-ITEMS': 42,\n",
       " 'BISCUIT': 30,\n",
       " 'BEVERAGES': 24,\n",
       " 'PASTA': 4,\n",
       " 'CHIPS': 19,\n",
       " 'BREAD': 5,\n",
       " 'READY-TO-EAT-MEALS': 3,\n",
       " 'NUTS-SEEDS-DRIED-FRUIT': 13,\n",
       " 'PROTEIN-BAR': 12,\n",
       " 'FROZEN-SNACKS': 3,\n",
       " 'SWEETS': 34,\n",
       " 'MISCELLANEOUS': 8,\n",
       " 'HEALTH-SUPPLEMENT': 41,\n",
       " 'INSTANT-NOODLES': 8,\n",
       " 'MEAT/SEAFOOD': 12,\n",
       " 'BREAKFAST-CEREALS-AND-GRAINS': 3,\n",
       " 'SAUCES-DIPS-SPREADS-CONDIMENTS': 12,\n",
       " 'COOKING-OIL': 1,\n",
       " 'DAIRY': 8,\n",
       " 'SAUCE/CONDIMENT/PICKLE': 8,\n",
       " 'BREAKFAST-SPREADS': 6,\n",
       " 'BAKING-AND-BATTER-MIXES': 3,\n",
       " 'PROTEIN-POWDER': 1,\n",
       " 'PANEER': 11,\n",
       " 'MILK-FLAVOURING': 1}"
      ]
     },
     "execution_count": 32,
     "metadata": {},
     "output_type": "execute_result"
    }
   ],
   "source": [
    "counter"
   ]
  },
  {
   "cell_type": "code",
   "execution_count": 33,
   "id": "d98c2c03",
   "metadata": {},
   "outputs": [
    {
     "data": {
      "text/plain": [
       "{'NAMKEEN': 47,\n",
       " 'BREAKFAST-ITEMS': 42,\n",
       " 'HEALTH-SUPPLEMENT': 41,\n",
       " 'SWEETS': 34,\n",
       " 'BISCUIT': 30,\n",
       " 'BEVERAGES': 24,\n",
       " 'CHIPS': 19,\n",
       " 'NUTS-SEEDS-DRIED-FRUIT': 13,\n",
       " 'PROTEIN-BAR': 12,\n",
       " 'MEAT/SEAFOOD': 12,\n",
       " 'SAUCES-DIPS-SPREADS-CONDIMENTS': 12,\n",
       " 'PANEER': 11,\n",
       " 'MISCELLANEOUS': 8,\n",
       " 'INSTANT-NOODLES': 8,\n",
       " 'DAIRY': 8,\n",
       " 'SAUCE/CONDIMENT/PICKLE': 8,\n",
       " 'BREAKFAST-SPREADS': 6,\n",
       " 'BREAD': 5,\n",
       " 'PASTA': 4,\n",
       " 'READY-TO-EAT-MEALS': 3,\n",
       " 'FROZEN-SNACKS': 3,\n",
       " 'BREAKFAST-CEREALS-AND-GRAINS': 3,\n",
       " 'BAKING-AND-BATTER-MIXES': 3,\n",
       " 'COOKING-OIL': 1,\n",
       " 'PROTEIN-POWDER': 1,\n",
       " 'MILK-FLAVOURING': 1}"
      ]
     },
     "execution_count": 33,
     "metadata": {},
     "output_type": "execute_result"
    }
   ],
   "source": [
    "dict(sorted(counter.items(), key=lambda item: item[1], reverse=True))"
   ]
  },
  {
   "cell_type": "code",
   "execution_count": 34,
   "id": "2ffa3dc1",
   "metadata": {},
   "outputs": [
    {
     "data": {
      "text/plain": [
       "26"
      ]
     },
     "execution_count": 34,
     "metadata": {},
     "output_type": "execute_result"
    }
   ],
   "source": [
    "len(counter)"
   ]
  },
  {
   "cell_type": "code",
   "execution_count": 35,
   "id": "1b13316b",
   "metadata": {},
   "outputs": [
    {
     "data": {
      "text/plain": [
       "26"
      ]
     },
     "execution_count": 35,
     "metadata": {},
     "output_type": "execute_result"
    }
   ],
   "source": [
    "len(counter)"
   ]
  },
  {
   "cell_type": "code",
   "execution_count": 36,
   "id": "051b820b",
   "metadata": {},
   "outputs": [],
   "source": [
    "lol = []\n",
    "for k in counter.keys():\n",
    "    lol.append({\"_id\" : k})"
   ]
  },
  {
   "cell_type": "code",
   "execution_count": 37,
   "id": "05a33dd8",
   "metadata": {},
   "outputs": [
    {
     "data": {
      "text/plain": [
       "[{'_id': 'NAMKEEN'},\n",
       " {'_id': 'BREAKFAST-ITEMS'},\n",
       " {'_id': 'BISCUIT'},\n",
       " {'_id': 'BEVERAGES'},\n",
       " {'_id': 'PASTA'},\n",
       " {'_id': 'CHIPS'},\n",
       " {'_id': 'BREAD'},\n",
       " {'_id': 'READY-TO-EAT-MEALS'},\n",
       " {'_id': 'NUTS-SEEDS-DRIED-FRUIT'},\n",
       " {'_id': 'PROTEIN-BAR'},\n",
       " {'_id': 'FROZEN-SNACKS'},\n",
       " {'_id': 'SWEETS'},\n",
       " {'_id': 'MISCELLANEOUS'},\n",
       " {'_id': 'HEALTH-SUPPLEMENT'},\n",
       " {'_id': 'INSTANT-NOODLES'},\n",
       " {'_id': 'MEAT/SEAFOOD'},\n",
       " {'_id': 'BREAKFAST-CEREALS-AND-GRAINS'},\n",
       " {'_id': 'SAUCES-DIPS-SPREADS-CONDIMENTS'},\n",
       " {'_id': 'COOKING-OIL'},\n",
       " {'_id': 'DAIRY'},\n",
       " {'_id': 'SAUCE/CONDIMENT/PICKLE'},\n",
       " {'_id': 'BREAKFAST-SPREADS'},\n",
       " {'_id': 'BAKING-AND-BATTER-MIXES'},\n",
       " {'_id': 'PROTEIN-POWDER'},\n",
       " {'_id': 'PANEER'},\n",
       " {'_id': 'MILK-FLAVOURING'}]"
      ]
     },
     "execution_count": 37,
     "metadata": {},
     "output_type": "execute_result"
    }
   ],
   "source": [
    "lol"
   ]
  },
  {
   "cell_type": "code",
   "execution_count": 38,
   "id": "568299fd",
   "metadata": {
    "scrolled": true
   },
   "outputs": [
    {
     "data": {
      "text/plain": [
       "dict_keys(['NAMKEEN', 'BREAKFAST-ITEMS', 'BISCUIT', 'BEVERAGES', 'PASTA', 'CHIPS', 'BREAD', 'READY-TO-EAT-MEALS', 'NUTS-SEEDS-DRIED-FRUIT', 'PROTEIN-BAR', 'FROZEN-SNACKS', 'SWEETS', 'MISCELLANEOUS', 'HEALTH-SUPPLEMENT', 'INSTANT-NOODLES', 'MEAT/SEAFOOD', 'BREAKFAST-CEREALS-AND-GRAINS', 'SAUCES-DIPS-SPREADS-CONDIMENTS', 'COOKING-OIL', 'DAIRY', 'SAUCE/CONDIMENT/PICKLE', 'BREAKFAST-SPREADS', 'BAKING-AND-BATTER-MIXES', 'PROTEIN-POWDER', 'PANEER', 'MILK-FLAVOURING'])"
      ]
     },
     "execution_count": 38,
     "metadata": {},
     "output_type": "execute_result"
    }
   ],
   "source": [
    "counter.keys()"
   ]
  },
  {
   "cell_type": "code",
   "execution_count": 39,
   "id": "0afb01e9",
   "metadata": {},
   "outputs": [
    {
     "data": {
      "text/plain": [
       "359"
      ]
     },
     "execution_count": 39,
     "metadata": {},
     "output_type": "execute_result"
    }
   ],
   "source": [
    "sum(counter.values())"
   ]
  }
 ],
 "metadata": {
  "kernelspec": {
   "display_name": "Python 3 (ipykernel)",
   "language": "python",
   "name": "python3"
  },
  "language_info": {
   "codemirror_mode": {
    "name": "ipython",
    "version": 3
   },
   "file_extension": ".py",
   "mimetype": "text/x-python",
   "name": "python",
   "nbconvert_exporter": "python",
   "pygments_lexer": "ipython3",
   "version": "3.11.3"
  }
 },
 "nbformat": 4,
 "nbformat_minor": 5
}
