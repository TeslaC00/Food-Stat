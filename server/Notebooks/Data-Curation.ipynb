{
 "cells": [
  {
   "cell_type": "code",
   "execution_count": 1,
   "id": "05abf059",
   "metadata": {},
   "outputs": [],
   "source": [
    "import os\n",
    "import json"
   ]
  },
  {
   "cell_type": "code",
   "execution_count": 69,
   "id": "479c5977",
   "metadata": {},
   "outputs": [],
   "source": [
    "path = \"ModelPaused.json\"\n",
    "json_data = []\n",
    "with open (path, 'r', encoding='utf-8') as f:\n",
    "    try:\n",
    "        data = json.load(f)\n",
    "        json_data.append(data)\n",
    "    except json.JSONDecodeError as e:\n",
    "        print(f\"Error decoding JSON in file {filename}: {e}\")"
   ]
  },
  {
   "cell_type": "code",
   "execution_count": 70,
   "id": "3651d5be",
   "metadata": {
    "scrolled": false
   },
   "outputs": [
    {
     "data": {
      "text/plain": [
       "{'item_category': 'NAMKEEN',\n",
       " 'item_name': 'Salted Peanuts - Panjwani',\n",
       " 'ingredients': ['Peanuts', 'Salt', 'Vegetable Oil'],\n",
       " 'allergy_info': ['nuts', 'Peanuts'],\n",
       " 'nutrition': {'energy': '609',\n",
       "  'protein': '0',\n",
       "  'carbohydrate': '28.26',\n",
       "  'total_fat': '47.78',\n",
       "  'total_sugars': '7.26',\n",
       "  'added_sugars': 'N/A',\n",
       "  'saturated_fat': '7.86',\n",
       "  'trans_fat': 'N/A'},\n",
       " 'veg': True,\n",
       " 'image_url': ''}"
      ]
     },
     "execution_count": 70,
     "metadata": {},
     "output_type": "execute_result"
    }
   ],
   "source": [
    "json_data[0][0]"
   ]
  },
  {
   "cell_type": "code",
   "execution_count": 71,
   "id": "ca5cdd86",
   "metadata": {},
   "outputs": [],
   "source": [
    "counter = {}\n",
    "\n",
    "for record in json_data[0]:\n",
    "    if record['item_category'] in counter:\n",
    "        counter[record['item_category']] += 1\n",
    "    else:\n",
    "        counter[record['item_category']] = 1"
   ]
  },
  {
   "cell_type": "code",
   "execution_count": 72,
   "id": "92b0fc98",
   "metadata": {
    "scrolled": false
   },
   "outputs": [
    {
     "data": {
      "text/plain": [
       "{'NAMKEEN': 47,\n",
       " 'INSTANT-OATS': 25,\n",
       " 'BISCUIT': 29,\n",
       " 'RUSK/TOAST': 1,\n",
       " 'BEVERAGES': 20,\n",
       " 'PASTA': 4,\n",
       " 'CHIPS': 19,\n",
       " 'BREAD': 5,\n",
       " 'MUESLI': 4,\n",
       " 'READY-TO-EAT-MEALS': 3,\n",
       " 'TRAIL-MIX': 9,\n",
       " 'PROTEIN-BAR': 12,\n",
       " 'FROZEN-SNACKS': 3,\n",
       " 'ICE-CREAM': 17,\n",
       " 'INSTANT-RICE': 7,\n",
       " 'PROTEIN-POWDER': 18,\n",
       " 'INSTANT-NOODLES': 8,\n",
       " 'MEAT/SEAFOOD': 12,\n",
       " 'BREAKFAST-CEREAL': 13,\n",
       " 'BREAKFAST-SPREADS': 3,\n",
       " 'SAUCE/CONDIMENT/PICKLE': 12,\n",
       " 'MILK-FLAVOURING': 4,\n",
       " 'SWEETS': 9,\n",
       " 'COOKING-OIL': 1,\n",
       " 'HEALTH-SUPPLEMENT': 23,\n",
       " 'DAIRY': 8,\n",
       " 'DIPS/SPREADS': 2,\n",
       " 'SPICES': 3,\n",
       " 'PEANUT-BUTTER': 4,\n",
       " 'DRIED-FRUIT': 3,\n",
       " 'BAKING-MIX': 2,\n",
       " 'CHOCOLATE': 8,\n",
       " 'SUGAR': 1,\n",
       " 'SALT': 2,\n",
       " 'COFFEE': 2,\n",
       " 'BATTER': 1,\n",
       " 'SOYA-PRODUCTS': 1,\n",
       " 'CHEESE/SPREAD': 2,\n",
       " 'PANEER': 11,\n",
       " 'CANNED-FRUIT': 1}"
      ]
     },
     "execution_count": 72,
     "metadata": {},
     "output_type": "execute_result"
    }
   ],
   "source": [
    "counter"
   ]
  },
  {
   "cell_type": "code",
   "execution_count": 64,
   "id": "754c0abc",
   "metadata": {},
   "outputs": [
    {
     "data": {
      "text/plain": [
       "{'NAMKEEN': 47,\n",
       " 'BISCUIT': 29,\n",
       " 'INSTANT-OATS': 25,\n",
       " 'HEALTH-SUPPLEMENT': 23,\n",
       " 'BEVERAGES': 20,\n",
       " 'CHIPS': 19,\n",
       " 'PROTEIN-POWDER': 18,\n",
       " 'ICE-CREAM': 17,\n",
       " 'BREAKFAST-CEREAL': 13,\n",
       " 'PROTEIN-BAR': 12,\n",
       " 'MEAT/SEAFOOD': 12,\n",
       " 'PANEER': 11,\n",
       " 'TRAIL-MIX': 9,\n",
       " 'SAUCE/CONDIMENT/PICKLE': 9,\n",
       " 'SWEETS': 9,\n",
       " 'INSTANT-NOODLES': 8,\n",
       " 'CHOCOLATE': 8,\n",
       " 'INSTANT-RICE': 7,\n",
       " 'BREAD': 5,\n",
       " 'DAIRY': 5,\n",
       " 'PASTA': 4,\n",
       " 'MUESLI': 4,\n",
       " 'MILK-FLAVOURING': 4,\n",
       " 'PEANUT-BUTTER': 4,\n",
       " 'READY-TO-EAT-MEALS': 3,\n",
       " 'FROZEN-SNACKS': 3,\n",
       " 'BREAKFAST-SPREADS': 3,\n",
       " 'SPICES': 3,\n",
       " 'DRIED-FRUIT': 3,\n",
       " 'CONDIMENT': 3,\n",
       " 'DIPS/SPREADS': 2,\n",
       " 'BAKING-MIX': 2,\n",
       " 'SALT': 2,\n",
       " 'COFFEE': 2,\n",
       " 'GHEE/BUTTER': 2,\n",
       " 'CHEESE/SPREAD': 2,\n",
       " 'RUSK/TOAST': 1,\n",
       " 'COOKING-OIL': 1,\n",
       " 'SUGAR': 1,\n",
       " 'BATTER': 1,\n",
       " 'SOYA-PRODUCTS': 1,\n",
       " 'YOGURT/DAHI': 1,\n",
       " 'CANNED-FRUIT': 1}"
      ]
     },
     "execution_count": 64,
     "metadata": {},
     "output_type": "execute_result"
    }
   ],
   "source": [
    "dict(sorted(counter.items(), key=lambda item: item[1], reverse=True))"
   ]
  },
  {
   "cell_type": "code",
   "execution_count": null,
   "id": "a92061ae",
   "metadata": {},
   "outputs": [],
   "source": []
  },
  {
   "cell_type": "code",
   "execution_count": 44,
   "id": "5e6060c4",
   "metadata": {},
   "outputs": [],
   "source": [
    "lol = []\n",
    "for k in counter.keys():\n",
    "    lol.append({\"_id\" : k})"
   ]
  },
  {
   "cell_type": "code",
   "execution_count": 48,
   "id": "7f2d829b",
   "metadata": {
    "scrolled": true
   },
   "outputs": [
    {
     "data": {
      "text/plain": [
       "dict_keys(['NAMKEEN', 'INSTANT-OATS', 'BISCUIT', 'RUSK/TOAST', 'BEVERAGES', 'PASTA', 'CHIPS', 'BREAD', 'MUESLI', 'READY-TO-EAT-MEALS', 'TRAIL-MIX', 'PROTEIN-BAR', 'FROZEN-SNACKS', 'ICE-CREAM', 'INSTANT-RICE', 'PROTEIN-POWDER', 'INSTANT-NOODLES', 'MEAT/SEAFOOD', 'BREAKFAST-CEREAL', 'BREAKFAST-SPREADS', 'PICKLE/CONDIMENT', 'MILK-FLAVOURING', 'SWEETS', 'COOKING-OIL', 'HEALTH-SUPPLEMENT', 'MILK', 'DIPS/SPREADS', 'SPICES', 'PEANUT-BUTTER', 'NUTS', 'DRIED-FRUIT', 'SAUCE/CONDIMENT', 'COOKING-PASTE', 'SEEDS', 'BAKING-MIX', 'CHOCOLATE', 'ENERGY-BALLS', 'SUGAR', 'SALT', 'COFFEE', 'BATTER', 'SOYA-PRODUCTS', 'GHEE/BUTTER', 'CHEESE/SPREAD', 'PANEER', 'OATS', 'YOGURT/DAHI', 'CANNED-FRUIT', 'DAIRY', 'CONDIMENT'])"
      ]
     },
     "execution_count": 48,
     "metadata": {},
     "output_type": "execute_result"
    }
   ],
   "source": [
    "counter.keys()"
   ]
  },
  {
   "cell_type": "code",
   "execution_count": 49,
   "id": "574cca0a",
   "metadata": {},
   "outputs": [
    {
     "data": {
      "text/plain": [
       "361"
      ]
     },
     "execution_count": 49,
     "metadata": {},
     "output_type": "execute_result"
    }
   ],
   "source": [
    "sum(counter.values())"
   ]
  }
 ],
 "metadata": {
  "kernelspec": {
   "display_name": "Python 3 (ipykernel)",
   "language": "python",
   "name": "python3"
  },
  "language_info": {
   "codemirror_mode": {
    "name": "ipython",
    "version": 3
   },
   "file_extension": ".py",
   "mimetype": "text/x-python",
   "name": "python",
   "nbconvert_exporter": "python",
   "pygments_lexer": "ipython3",
   "version": "3.11.3"
  }
 },
 "nbformat": 4,
 "nbformat_minor": 5
}
