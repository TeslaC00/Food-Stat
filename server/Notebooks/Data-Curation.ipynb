{
 "cells": [
  {
   "cell_type": "code",
   "execution_count": 1,
   "id": "c4497c7e",
   "metadata": {},
   "outputs": [],
   "source": [
    "import os\n",
    "import json"
   ]
  },
  {
   "cell_type": "code",
   "execution_count": 76,
   "id": "3790fab1",
   "metadata": {},
   "outputs": [],
   "source": [
    "path = \"ModelPaused.json\"\n",
    "json_data = []\n",
    "with open (path, 'r', encoding='utf-8') as f:\n",
    "    try:\n",
    "        data = json.load(f)\n",
    "        json_data.append(data)\n",
    "    except json.JSONDecodeError as e:\n",
    "        print(f\"Error decoding JSON in file {filename}: {e}\")"
   ]
  },
  {
   "cell_type": "code",
   "execution_count": 70,
   "id": "03619c32",
   "metadata": {
    "scrolled": false
   },
   "outputs": [
    {
     "data": {
      "text/plain": [
       "{'item_category': 'NAMKEEN',\n",
       " 'item_name': 'Salted Peanuts - Panjwani',\n",
       " 'ingredients': ['Peanuts', 'Salt', 'Vegetable Oil'],\n",
       " 'allergy_info': ['nuts', 'Peanuts'],\n",
       " 'nutrition': {'energy': '609',\n",
       "  'protein': '0',\n",
       "  'carbohydrate': '28.26',\n",
       "  'total_fat': '47.78',\n",
       "  'total_sugars': '7.26',\n",
       "  'added_sugars': 'N/A',\n",
       "  'saturated_fat': '7.86',\n",
       "  'trans_fat': 'N/A'},\n",
       " 'veg': True,\n",
       " 'image_url': ''}"
      ]
     },
     "execution_count": 70,
     "metadata": {},
     "output_type": "execute_result"
    }
   ],
   "source": [
    "json_data[0][0]"
   ]
  },
  {
   "cell_type": "code",
   "execution_count": 77,
   "id": "9ed72f55",
   "metadata": {},
   "outputs": [],
   "source": [
    "counter = {}\n",
    "\n",
    "for record in json_data[0]:\n",
    "    if record['item_category'] in counter:\n",
    "        counter[record['item_category']] += 1\n",
    "    else:\n",
    "        counter[record['item_category']] = 1"
   ]
  },
  {
   "cell_type": "code",
   "execution_count": 78,
   "id": "afc0a3dd",
   "metadata": {
    "scrolled": false
   },
   "outputs": [
    {
     "data": {
      "text/plain": [
       "{'NAMKEEN': 47,\n",
       " 'INSTANT-OATS': 25,\n",
       " 'BISCUIT': 29,\n",
       " 'RUSK/TOAST': 1,\n",
       " 'BEVERAGES': 20,\n",
       " 'PASTA': 4,\n",
       " 'CHIPS': 19,\n",
       " 'BREAD': 5,\n",
       " 'MUESLI': 4,\n",
       " 'READY-TO-EAT-MEALS': 3,\n",
       " 'TRAIL-MIX': 9,\n",
       " 'PROTEIN-BAR': 12,\n",
       " 'FROZEN-SNACKS': 3,\n",
       " 'ICE-CREAM': 17,\n",
       " 'INSTANT-RICE': 7,\n",
       " 'PROTEIN-POWDER': 18,\n",
       " 'INSTANT-NOODLES': 8,\n",
       " 'MEAT/SEAFOOD': 12,\n",
       " 'BREAKFAST-CEREAL': 13,\n",
       " 'BREAKFAST-SPREADS': 3,\n",
       " 'SAUCE/CONDIMENT/PICKLE': 12,\n",
       " 'MILK-FLAVOURING': 4,\n",
       " 'SWEETS': 9,\n",
       " 'COOKING-OIL': 1,\n",
       " 'HEALTH-SUPPLEMENT': 23,\n",
       " 'DAIRY': 8,\n",
       " 'DIPS/SPREADS': 2,\n",
       " 'SPICES': 6,\n",
       " 'PEANUT-BUTTER': 4,\n",
       " 'DRIED-FRUIT': 3,\n",
       " 'BAKING-MIX': 2,\n",
       " 'CHOCOLATE': 8,\n",
       " 'COFFEE': 2,\n",
       " 'BATTER': 1,\n",
       " 'SOYA-PRODUCTS': 1,\n",
       " 'CHEESE/SPREAD': 2,\n",
       " 'PANEER': 11,\n",
       " 'CANNED-FRUIT': 1}"
      ]
     },
     "execution_count": 78,
     "metadata": {},
     "output_type": "execute_result"
    }
   ],
   "source": [
    "counter"
   ]
  },
  {
   "cell_type": "code",
   "execution_count": 81,
   "id": "3ea1abad",
   "metadata": {},
   "outputs": [
    {
     "data": {
      "text/plain": [
       "{'NAMKEEN': 47,\n",
       " 'BISCUIT': 29,\n",
       " 'INSTANT-OATS': 25,\n",
       " 'HEALTH-SUPPLEMENT': 23,\n",
       " 'BEVERAGES': 20,\n",
       " 'CHIPS': 19,\n",
       " 'PROTEIN-POWDER': 18,\n",
       " 'ICE-CREAM': 17,\n",
       " 'BREAKFAST-CEREAL': 13,\n",
       " 'PROTEIN-BAR': 12,\n",
       " 'MEAT/SEAFOOD': 12,\n",
       " 'SAUCE/CONDIMENT/PICKLE': 12,\n",
       " 'PANEER': 11,\n",
       " 'TRAIL-MIX': 9,\n",
       " 'SWEETS': 9,\n",
       " 'INSTANT-NOODLES': 8,\n",
       " 'DAIRY': 8,\n",
       " 'CHOCOLATE': 8,\n",
       " 'INSTANT-RICE': 7,\n",
       " 'SPICES': 6,\n",
       " 'BREAD': 5,\n",
       " 'PASTA': 4,\n",
       " 'MUESLI': 4,\n",
       " 'MILK-FLAVOURING': 4,\n",
       " 'PEANUT-BUTTER': 4,\n",
       " 'READY-TO-EAT-MEALS': 3,\n",
       " 'FROZEN-SNACKS': 3,\n",
       " 'BREAKFAST-SPREADS': 3,\n",
       " 'DRIED-FRUIT': 3,\n",
       " 'DIPS/SPREADS': 2,\n",
       " 'BAKING-MIX': 2,\n",
       " 'COFFEE': 2,\n",
       " 'CHEESE/SPREAD': 2,\n",
       " 'RUSK/TOAST': 1,\n",
       " 'COOKING-OIL': 1,\n",
       " 'BATTER': 1,\n",
       " 'SOYA-PRODUCTS': 1,\n",
       " 'CANNED-FRUIT': 1}"
      ]
     },
     "execution_count": 81,
     "metadata": {},
     "output_type": "execute_result"
    }
   ],
   "source": [
    "dict(sorted(counter.items(), key=lambda item: item[1], reverse=True))"
   ]
  },
  {
   "cell_type": "code",
   "execution_count": 82,
   "id": "71c06bfa",
   "metadata": {},
   "outputs": [
    {
     "data": {
      "text/plain": [
       "38"
      ]
     },
     "execution_count": 82,
     "metadata": {},
     "output_type": "execute_result"
    }
   ],
   "source": [
    "len(counter)"
   ]
  },
  {
   "cell_type": "code",
   "execution_count": 79,
   "id": "3c1610d2",
   "metadata": {},
   "outputs": [],
   "source": [
    "lol = []\n",
    "for k in counter.keys():\n",
    "    lol.append({\"_id\" : k})"
   ]
  },
  {
   "cell_type": "code",
   "execution_count": 80,
   "id": "0f475aed",
   "metadata": {},
   "outputs": [
    {
     "data": {
      "text/plain": [
       "[{'_id': 'NAMKEEN'},\n",
       " {'_id': 'INSTANT-OATS'},\n",
       " {'_id': 'BISCUIT'},\n",
       " {'_id': 'RUSK/TOAST'},\n",
       " {'_id': 'BEVERAGES'},\n",
       " {'_id': 'PASTA'},\n",
       " {'_id': 'CHIPS'},\n",
       " {'_id': 'BREAD'},\n",
       " {'_id': 'MUESLI'},\n",
       " {'_id': 'READY-TO-EAT-MEALS'},\n",
       " {'_id': 'TRAIL-MIX'},\n",
       " {'_id': 'PROTEIN-BAR'},\n",
       " {'_id': 'FROZEN-SNACKS'},\n",
       " {'_id': 'ICE-CREAM'},\n",
       " {'_id': 'INSTANT-RICE'},\n",
       " {'_id': 'PROTEIN-POWDER'},\n",
       " {'_id': 'INSTANT-NOODLES'},\n",
       " {'_id': 'MEAT/SEAFOOD'},\n",
       " {'_id': 'BREAKFAST-CEREAL'},\n",
       " {'_id': 'BREAKFAST-SPREADS'},\n",
       " {'_id': 'SAUCE/CONDIMENT/PICKLE'},\n",
       " {'_id': 'MILK-FLAVOURING'},\n",
       " {'_id': 'SWEETS'},\n",
       " {'_id': 'COOKING-OIL'},\n",
       " {'_id': 'HEALTH-SUPPLEMENT'},\n",
       " {'_id': 'DAIRY'},\n",
       " {'_id': 'DIPS/SPREADS'},\n",
       " {'_id': 'SPICES'},\n",
       " {'_id': 'PEANUT-BUTTER'},\n",
       " {'_id': 'DRIED-FRUIT'},\n",
       " {'_id': 'BAKING-MIX'},\n",
       " {'_id': 'CHOCOLATE'},\n",
       " {'_id': 'COFFEE'},\n",
       " {'_id': 'BATTER'},\n",
       " {'_id': 'SOYA-PRODUCTS'},\n",
       " {'_id': 'CHEESE/SPREAD'},\n",
       " {'_id': 'PANEER'},\n",
       " {'_id': 'CANNED-FRUIT'}]"
      ]
     },
     "execution_count": 80,
     "metadata": {},
     "output_type": "execute_result"
    }
   ],
   "source": [
    "lol"
   ]
  },
  {
   "cell_type": "code",
   "execution_count": 48,
   "id": "e1f1f807",
   "metadata": {
    "scrolled": true
   },
   "outputs": [
    {
     "data": {
      "text/plain": [
       "dict_keys(['NAMKEEN', 'INSTANT-OATS', 'BISCUIT', 'RUSK/TOAST', 'BEVERAGES', 'PASTA', 'CHIPS', 'BREAD', 'MUESLI', 'READY-TO-EAT-MEALS', 'TRAIL-MIX', 'PROTEIN-BAR', 'FROZEN-SNACKS', 'ICE-CREAM', 'INSTANT-RICE', 'PROTEIN-POWDER', 'INSTANT-NOODLES', 'MEAT/SEAFOOD', 'BREAKFAST-CEREAL', 'BREAKFAST-SPREADS', 'PICKLE/CONDIMENT', 'MILK-FLAVOURING', 'SWEETS', 'COOKING-OIL', 'HEALTH-SUPPLEMENT', 'MILK', 'DIPS/SPREADS', 'SPICES', 'PEANUT-BUTTER', 'NUTS', 'DRIED-FRUIT', 'SAUCE/CONDIMENT', 'COOKING-PASTE', 'SEEDS', 'BAKING-MIX', 'CHOCOLATE', 'ENERGY-BALLS', 'SUGAR', 'SALT', 'COFFEE', 'BATTER', 'SOYA-PRODUCTS', 'GHEE/BUTTER', 'CHEESE/SPREAD', 'PANEER', 'OATS', 'YOGURT/DAHI', 'CANNED-FRUIT', 'DAIRY', 'CONDIMENT'])"
      ]
     },
     "execution_count": 48,
     "metadata": {},
     "output_type": "execute_result"
    }
   ],
   "source": [
    "counter.keys()"
   ]
  },
  {
   "cell_type": "code",
   "execution_count": 49,
   "id": "0ae43ac6",
   "metadata": {},
   "outputs": [
    {
     "data": {
      "text/plain": [
       "361"
      ]
     },
     "execution_count": 49,
     "metadata": {},
     "output_type": "execute_result"
    }
   ],
   "source": [
    "sum(counter.values())"
   ]
  }
 ],
 "metadata": {
  "kernelspec": {
   "display_name": "Python 3 (ipykernel)",
   "language": "python",
   "name": "python3"
  },
  "language_info": {
   "codemirror_mode": {
    "name": "ipython",
    "version": 3
   },
   "file_extension": ".py",
   "mimetype": "text/x-python",
   "name": "python",
   "nbconvert_exporter": "python",
   "pygments_lexer": "ipython3",
   "version": "3.11.3"
  }
 },
 "nbformat": 4,
 "nbformat_minor": 5
}
