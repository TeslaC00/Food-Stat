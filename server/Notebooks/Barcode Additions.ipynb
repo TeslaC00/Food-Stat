{
 "cells": [
  {
   "cell_type": "code",
   "execution_count": 1,
   "id": "48888569",
   "metadata": {},
   "outputs": [],
   "source": [
    "import os\n",
    "import json"
   ]
  },
  {
   "cell_type": "code",
   "execution_count": 19,
   "id": "2a70485a",
   "metadata": {},
   "outputs": [],
   "source": [
    "path = \"Data.json\"\n",
    "json_data = []\n",
    "with open (path, 'r', encoding='utf-8') as f:\n",
    "    try:\n",
    "        data = json.load(f)\n",
    "        json_data.append(data)\n",
    "    except json.JSONDecodeError as e:\n",
    "        print(f\"Error decoding JSON in file {filename}: {e}\")"
   ]
  },
  {
   "cell_type": "code",
   "execution_count": 20,
   "id": "9b5bc270",
   "metadata": {},
   "outputs": [],
   "source": [
    "import random\n",
    "\n",
    "def generate_ean13_prefix():\n",
    "    \"\"\"Generate the first 12 digits (can include a GS1 prefix like '890' for India).\"\"\"\n",
    "    prefix = \"890\"  # GS1 prefix for India\n",
    "    random_part = ''.join(random.choices(\"0123456789\", k=9))\n",
    "    return prefix + random_part\n",
    "\n",
    "def calculate_ean13_check_digit(number):\n",
    "    \"\"\"Calculate the EAN-13 check digit for a 12-digit number.\"\"\"\n",
    "    assert len(number) == 12\n",
    "    total = 0\n",
    "    for i, digit in enumerate(number):\n",
    "        n = int(digit)\n",
    "        total += n if i % 2 == 0 else n * 3\n",
    "    check_digit = (10 - (total % 10)) % 10\n",
    "    return str(check_digit)\n",
    "\n",
    "def generate_valid_ean13():\n",
    "    \"\"\"Generate a full valid EAN-13 barcode.\"\"\"\n",
    "    base = generate_ean13_prefix()\n",
    "    check_digit = calculate_ean13_check_digit(base)\n",
    "    return base + check_digit"
   ]
  },
  {
   "cell_type": "code",
   "execution_count": 21,
   "id": "82c6384e",
   "metadata": {},
   "outputs": [],
   "source": [
    "# Add EAN-13 barcodes\n",
    "for item in data:\n",
    "    item[\"barcode\"] = generate_valid_ean13()\n",
    "\n"
   ]
  },
  {
   "cell_type": "code",
   "execution_count": 22,
   "id": "fc21afcc",
   "metadata": {},
   "outputs": [
    {
     "data": {
      "text/plain": [
       "{'item_category': 'NAMKEEN',\n",
       " 'item_name': 'Salted Peanuts - Panjwani',\n",
       " 'ingredients': ['Peanuts', 'Salt', 'Vegetable Oil'],\n",
       " 'allergy_info': ['nuts', 'Peanuts'],\n",
       " 'nutrition': {'energy': '609',\n",
       "  'protein': '0',\n",
       "  'carbohydrate': '28.26',\n",
       "  'total_fat': '47.78',\n",
       "  'total_sugars': '7.26',\n",
       "  'added_sugars': 'N/A',\n",
       "  'saturated_fat': '7.86',\n",
       "  'trans_fat': 'N/A'},\n",
       " 'veg': True,\n",
       " 'image_url': '',\n",
       " 'INGREDIENT_QUALITY_RATING': 3.0,\n",
       " 'HEALTH_IMPACT_RATING': 2.5,\n",
       " 'NUTRITIONAL_CONTENT_RATING': 3.0,\n",
       " 'barcode': '8907011324908'}"
      ]
     },
     "execution_count": 22,
     "metadata": {},
     "output_type": "execute_result"
    }
   ],
   "source": [
    "data[0]"
   ]
  },
  {
   "cell_type": "code",
   "execution_count": 23,
   "id": "db1f96da",
   "metadata": {},
   "outputs": [
    {
     "data": {
      "text/plain": [
       "{'_id': {'$oid': '670a936ecb72e9a3fd2e3288'},\n",
       " 'price_per_unit': {'$NUMBERDECIMAL': '0.6142857143'},\n",
       " 'servings': 1,\n",
       " 'allergy_info': ['GLUTEN', 'SOY', 'SESAME'],\n",
       " 'final_rating': 2.6,\n",
       " 'health_impact_rating': 2.4,\n",
       " 'ingredient_quality_rating': 2.5,\n",
       " 'ingredients': ['REFINED WHEAT FLOUR (MAIDA)',\n",
       "  'EDIBLE VEGETABLE OIL (PALM OIL)',\n",
       "  'DEHYDRATED PIECES 6.13% (CHICKEN, CARROT, FRFF CABBAGE & CURRY LEAVES)',\n",
       "  'HYDROLYSED VEGETABLE PROTEIN POWDER (SOY)',\n",
       "  'MIXED SPICES 1.50% (RED CHILLI, TURMERIC, CORIANDER, BLACK PEPPER, CUMIN, FENUGREEK, GINGER, CLOVE, NUTMEG & GREEN CARDAMOM)',\n",
       "  'ONION POWDER',\n",
       "  'SUGAR',\n",
       "  'MALTODEXTRIN',\n",
       "  'YEAST EXTRACT POWDER',\n",
       "  'CORN STARCH',\n",
       "  'FLAVOUR ENHANCERS (INS 631 , INS627 & INS620)',\n",
       "  'MILK SOLIDS',\n",
       "  'NATURAL IDENTICAL FLAVOUR',\n",
       "  'ACIDITY REGULATORS [INS 500, INS 451 & INS 330]',\n",
       "  'EDIBLE VEGETABLE OIL(COCONUT OIL)',\n",
       "  'THICKENER(INS415)',\n",
       "  'ANTIOXIDANT (INS319)'],\n",
       " 'item_category': 'INSTANT-NOODLES',\n",
       " 'item_name': 'NISSIN SPICED CHICKEN CUP NOODLES',\n",
       " 'nutrition': {'energy': 485.19,\n",
       "  'protein': 10.28,\n",
       "  'carbohydrate': 62.8,\n",
       "  'total_sugars': 3.63,\n",
       "  'added_sugars': 3.63,\n",
       "  'total_fat': 20.22,\n",
       "  'saturated_fat': 9.72,\n",
       "  'trans_fat': 0.099,\n",
       "  'cholestrol': 0.099,\n",
       "  'sodium': 1409.17},\n",
       " 'nutritional_content_rating': 2.9,\n",
       " 'unit': 'G',\n",
       " 'veg': False,\n",
       " 'image_url': 'https://m.media-amazon.com/images/I/81H5f1NFXmL.jpg',\n",
       " 'barcode': '8902499777574'}"
      ]
     },
     "execution_count": 23,
     "metadata": {},
     "output_type": "execute_result"
    }
   ],
   "source": [
    "data[354]"
   ]
  },
  {
   "cell_type": "code",
   "execution_count": 24,
   "id": "7549ebc2",
   "metadata": {},
   "outputs": [
    {
     "name": "stdout",
     "output_type": "stream",
     "text": [
      "✅ EAN-13 barcodes added to all items.\n"
     ]
    }
   ],
   "source": [
    "# Save to JSON\n",
    "with open(\"Data_with_barcodes.json\", \"w\") as f:\n",
    "    json.dump(data, f, indent=2)\n",
    "\n",
    "print(\"✅ EAN-13 barcodes added to all items.\")"
   ]
  },
  {
   "cell_type": "code",
   "execution_count": 25,
   "id": "bf80811c",
   "metadata": {},
   "outputs": [
    {
     "data": {
      "text/plain": [
       "420"
      ]
     },
     "execution_count": 25,
     "metadata": {},
     "output_type": "execute_result"
    }
   ],
   "source": [
    "len(data)"
   ]
  }
 ],
 "metadata": {
  "kernelspec": {
   "display_name": "Python 3 (ipykernel)",
   "language": "python",
   "name": "python3"
  },
  "language_info": {
   "codemirror_mode": {
    "name": "ipython",
    "version": 3
   },
   "file_extension": ".py",
   "mimetype": "text/x-python",
   "name": "python",
   "nbconvert_exporter": "python",
   "pygments_lexer": "ipython3",
   "version": "3.11.3"
  }
 },
 "nbformat": 4,
 "nbformat_minor": 5
}
